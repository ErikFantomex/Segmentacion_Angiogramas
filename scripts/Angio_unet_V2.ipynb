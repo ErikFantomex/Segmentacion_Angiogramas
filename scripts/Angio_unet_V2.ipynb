{
  "nbformat": 4,
  "nbformat_minor": 0,
  "metadata": {
    "colab": {
      "provenance": [],
      "authorship_tag": "ABX9TyN53IFPRRNDu7UDLyiVP+Ic",
      "include_colab_link": true
    },
    "kernelspec": {
      "name": "python3",
      "display_name": "Python 3"
    },
    "language_info": {
      "name": "python"
    }
  },
  "cells": [
    {
      "cell_type": "markdown",
      "metadata": {
        "id": "view-in-github",
        "colab_type": "text"
      },
      "source": [
        "<a href=\"https://colab.research.google.com/github/ErikFantomex/Segmentacion_Angiogramas/blob/main/Angio_unet_V2.ipynb\" target=\"_parent\"><img src=\"https://colab.research.google.com/assets/colab-badge.svg\" alt=\"Open In Colab\"/></a>"
      ]
    },
    {
      "cell_type": "markdown",
      "source": [
        "#Segmentacion de Angiogramas"
      ],
      "metadata": {
        "id": "GXtKFJ4EgqUz"
      }
    },
    {
      "cell_type": "code",
      "execution_count": null,
      "metadata": {
        "colab": {
          "base_uri": "https://localhost:8080/"
        },
        "id": "PflCYsyKgni0",
        "outputId": "a410838f-7dc6-4e81-f933-b93fd4bd266c"
      },
      "outputs": [
        {
          "output_type": "stream",
          "name": "stdout",
          "text": [
            "Mounted at /content/drive\n"
          ]
        }
      ],
      "source": [
        "#Preparamos nuestros datos \n",
        "#!echo \"Loading data\"\n",
        "#!pip install gdown\n",
        "#!gdown https://drive.google.com/drive/folders/10VSVK06Kpy25GyW122ZHL6papMto7SOk?usp=sharing\n",
        "#!unzip Angprueba\n",
        "from google.colab import drive\n",
        "drive.mount('/content/drive')\n",
        "\n"
      ]
    },
    {
      "cell_type": "markdown",
      "source": [
        "#Preparando los datos"
      ],
      "metadata": {
        "id": "r-GH6qTWjjfY"
      }
    },
    {
      "cell_type": "code",
      "source": [
        "Train = True  #switch for training\n"
      ],
      "metadata": {
        "id": "hI5mrddip5Ur"
      },
      "execution_count": null,
      "outputs": []
    },
    {
      "cell_type": "code",
      "source": [
        "#!pip install tensorflow"
      ],
      "metadata": {
        "id": "kAPdSEAvqNRJ"
      },
      "execution_count": null,
      "outputs": []
    },
    {
      "cell_type": "code",
      "source": [
        "import os\n",
        "from keras import backend as K\n",
        "import numpy as np\n",
        "from PIL import Image\n",
        "from IPython.display import display\n",
        "import matplotlib.pyplot as plt\n",
        "\n",
        "from sklearn.model_selection import train_test_split \n",
        "#from tensorflow.python.keras.layers import Dense\n",
        "import tensorflow as tf\n",
        "from tensorflow.keras.layers import *\n",
        "from tensorflow.keras.activations import *\n",
        "from tensorflow.keras.models import Model\n",
        "from tensorflow.keras.optimizers import Adam\n",
        "from tensorflow.python.keras.callbacks import EarlyStopping, ModelCheckpoint, ReduceLROnPlateau\n",
        "from tensorflow.keras.preprocessing.image import ImageDataGenerator\n",
        "from keras.layers.normalization.batch_normalization import BatchNormalization"
      ],
      "metadata": {
        "id": "UY1AcUVkp_eF"
      },
      "execution_count": null,
      "outputs": []
    },
    {
      "cell_type": "code",
      "source": [
        "print(tf.__version__)"
      ],
      "metadata": {
        "colab": {
          "base_uri": "https://localhost:8080/"
        },
        "id": "m1bLW-FsqJK8",
        "outputId": "e9677002-a7a7-4b84-f4ab-d044a713fb88"
      },
      "execution_count": null,
      "outputs": [
        {
          "output_type": "stream",
          "name": "stdout",
          "text": [
            "2.8.2\n"
          ]
        }
      ]
    },
    {
      "cell_type": "markdown",
      "source": [],
      "metadata": {
        "id": "3KcR3p6dObqh"
      }
    },
    {
      "cell_type": "code",
      "source": [
        "np.random.seed(70)\n",
        "\n",
        "tf.random.set_seed(70)\n",
        "data_path = '/content/drive/MyDrive/datasets/AngioDB/'\n",
        "\n",
        "image_width = 300\n",
        "image_height = 300"
      ],
      "metadata": {
        "id": "XL4AdNQeqeoR"
      },
      "execution_count": null,
      "outputs": []
    },
    {
      "cell_type": "code",
      "source": [
        "img_data_path = os.path.join(data_path, 'normal')\n",
        "seg_data_path = os.path.join(data_path, 'masks')\n",
        "print(img_data_path)\n",
        "print(seg_data_path) \n",
        "\n",
        "\n",
        "#Image.open('/content/drive/MyDrive/datasets/AngioDB/masks/*-1.png')\n",
        "#images = sorted(os.listdir(img_data_path))\n",
        "#num_images = len(images)\n",
        "#imgs_array = np.ndarray((num_images, image_width, image_height), dtype=np.uint8)\n",
        "#images"
      ],
      "metadata": {
        "colab": {
          "base_uri": "https://localhost:8080/"
        },
        "id": "-NrWG-wIsd2R",
        "outputId": "6abc8e13-c8e6-4f05-c41a-b2bd3a7469af"
      },
      "execution_count": null,
      "outputs": [
        {
          "output_type": "stream",
          "name": "stdout",
          "text": [
            "/content/drive/MyDrive/datasets/AngioDB/normal\n",
            "/content/drive/MyDrive/datasets/AngioDB/masks\n"
          ]
        }
      ]
    },
    {
      "cell_type": "code",
      "source": [
        "def create_data_arr(img_data_path):\n",
        "  images = sorted(os.listdir(img_data_path))\n",
        "  num_images = len(images)\n",
        "  imgs_array = np.ndarray((num_images, image_width, image_height), dtype=np.uint8)\n",
        "\n",
        "  n = 0\n",
        "  good_imgs=[]\n",
        "  for image_name in images:\n",
        "      img = Image.open(os.path.join(img_data_path,image_name)).convert('L') \n",
        "      good_imgs.append(image_name)#guardamos las imagenes en una lista \n",
        "      img = np.array(img.resize((image_height,image_width)))\n",
        "      imgs_array[n] = img\n",
        "      n +=1\n",
        "  return imgs_array\n",
        "  \n",
        "print('Creating training images array...')\n",
        "imgs_array = create_data_arr(img_data_path)\n",
        "np.save('/content/drive/MyDrive/datasets/AngioDB/imgs_train.npy', imgs_array) #Guardamos las imagenes en un arreglo numpy \n",
        "print(imgs_array.shape)\n",
        "\n",
        "print('Creating training masks array...')\n",
        "segs_array = create_data_arr(seg_data_path)\n",
        "np.save('/content/drive/MyDrive/datasets/AngioDB/seg_train.npy', segs_array)\n",
        "print(segs_array.shape)"
      ],
      "metadata": {
        "colab": {
          "base_uri": "https://localhost:8080/"
        },
        "id": "6uG9X0Uss_3L",
        "outputId": "dff07f5c-2adb-4fce-bc63-f1efef5b22cc"
      },
      "execution_count": null,
      "outputs": [
        {
          "output_type": "stream",
          "name": "stdout",
          "text": [
            "Creating training images array...\n",
            "(135, 300, 300)\n",
            "Creating training masks array...\n",
            "(135, 300, 300)\n"
          ]
        }
      ]
    },
    {
      "cell_type": "code",
      "source": [],
      "metadata": {
        "id": "o8Tu0brYCkTu"
      },
      "execution_count": null,
      "outputs": []
    },
    {
      "cell_type": "code",
      "source": [
        "del imgs_array\n",
        "del segs_array\n",
        "\n",
        "imgs = np.load(data_path+'imgs_train.npy')\n",
        "segs = np.load(data_path+'seg_train.npy')\n",
        "\n",
        "hh = plt.hist(segs.flatten())\n",
        "plt.title(\"Histogram of masks\")\n",
        "\n",
        "img_no=11\n",
        "print(imgs.shape)\n",
        "w=Image.fromarray(imgs[img_no].reshape(image_width,image_height))\n",
        "display(w)\n",
        "\n",
        "print(segs.shape)\n",
        "w=Image.fromarray(segs[img_no].reshape(image_width,image_height))\n",
        "display(w)\n",
        "\n"
      ],
      "metadata": {
        "colab": {
          "base_uri": "https://localhost:8080/",
          "height": 917
        },
        "id": "cCsvbfJq0Gxj",
        "outputId": "8daec05f-e02b-4d5e-8523-bf5f6506fc46"
      },
      "execution_count": null,
      "outputs": [
        {
          "output_type": "stream",
          "name": "stdout",
          "text": [
            "(135, 300, 300)\n"
          ]
        },
        {
          "output_type": "display_data",
          "data": {
            "text/plain": [
              "<PIL.Image.Image image mode=L size=300x300 at 0x7F5A4A60FCD0>"
            ],
            "image/png": "[encoded data removed]"
          },
          "metadata": {}
        },
        {
          "output_type": "stream",
          "name": "stdout",
          "text": [
            "(135, 300, 300)\n"
          ]
        },
        {
          "output_type": "display_data",
          "data": {
            "text/plain": [
              "<PIL.Image.Image image mode=L size=300x300 at 0x7F5A4A60FF50>"
            ],
            "image/png": "[encoded data removed]"
          },
          "metadata": {}
        },
        {
          "output_type": "display_data",
          "data": {
            "text/plain": [
              "<Figure size 432x288 with 1 Axes>"
            ],
            "image/png": "[encoded data removed]"
          },
          "metadata": {
            "needs_background": "light"
          }
        }
      ]
    },
    {
      "cell_type": "code",
      "source": [
        "#Creando parches\n",
        "def create_patches(imgs,segs, patch_size=128, step_size=16):\n",
        "  #making patches of size patch_size*patch_size and stride=step_size\n",
        "  from skimage.util.shape import view_as_windows\n",
        "\n",
        "  imgs_patches = np.array([])\n",
        "  segs_patches = np.array([])\n",
        "  for i in range(imgs.shape[0]):\n",
        "    patches=view_as_windows(imgs[i], (patch_size, patch_size), step=step_size)\n",
        "    patches=patches.reshape(-1,patch_size,patch_size)\n",
        "    seg_pats=view_as_windows(segs[i], (patch_size, patch_size), step=step_size)\n",
        "    seg_pats=seg_pats.reshape(-1,patch_size,patch_size)\n",
        "  \n",
        "    if i==0:\n",
        "      #first run\n",
        "      imgs_patches=patches\n",
        "      segs_patches=seg_pats\n",
        "    else:\n",
        "      imgs_patches=np.append(imgs_patches,patches,axis=0)\n",
        "      segs_patches=np.append(segs_patches,seg_pats,axis=0)\n",
        "\n",
        "  imgs_patches = imgs_patches[:,:,:,np.newaxis]\n",
        "  segs_patches = segs_patches[:,:,:,np.newaxis]\n",
        "\n",
        "  imgs_patches = imgs_patches.astype('float32')\n",
        "  imgs_patches /=255.0\n",
        "  segs_patches = segs_patches.astype('float32')\n",
        "  segs_patches /=255.0\n",
        "\n",
        "  return imgs_patches,segs_patches\n",
        "\n"
      ],
      "metadata": {
        "id": "gyDzPAKzEAaK"
      },
      "execution_count": null,
      "outputs": []
    },
    {
      "cell_type": "code",
      "source": [
        "\n",
        "\n",
        "#Diviendo los datos\n",
        "train_imgs, valid_test_imgs, train_segs, valid_test_segs = \\\n",
        "                    train_test_split(imgs, segs, test_size=0.5, random_state=54)\n",
        "\n",
        "valid_imgs, test_imgs, valid_segs, test_segs = \\\n",
        "                    train_test_split(valid_test_imgs, valid_test_segs, test_size=0.5, random_state=54)\n",
        "\n",
        "print(train_imgs.shape,train_segs.shape, valid_imgs.shape,valid_segs.shape,test_imgs.shape,test_segs.shape)\n",
        "\n",
        "#Creating patches\n",
        "TrainPatchImg, TrainPatchSeg = create_patches(train_imgs,train_segs ,step_size=8)\n",
        "ValidPatchImg, ValidPatchSeg = create_patches(valid_imgs,valid_segs, step_size=128)\n",
        "TestPatchImg, TestPatchSeg = create_patches(test_imgs,test_segs, step_size=128)\n",
        "TrainPatchImgEval, TrainPatchSegEval = create_patches(train_imgs,train_segs ,step_size=128)\n",
        "print(TrainPatchImg.shape,TrainPatchSeg.shape, ValidPatchImg.shape,ValidPatchSeg.shape,TestPatchImg.shape,TestPatchSeg.shape,TrainPatchImgEval.shape)\n",
        "\n"
      ],
      "metadata": {
        "colab": {
          "base_uri": "https://localhost:8080/"
        },
        "id": "imjHnH4vEk0K",
        "outputId": "cc954ae2-0480-433a-bad8-f2a46d4dca09"
      },
      "execution_count": null,
      "outputs": [
        {
          "output_type": "stream",
          "name": "stdout",
          "text": [
            "(67, 300, 300) (67, 300, 300) (34, 300, 300) (34, 300, 300) (34, 300, 300) (34, 300, 300)\n",
            "(32428, 128, 128, 1) (32428, 128, 128, 1) (136, 128, 128, 1) (136, 128, 128, 1) (136, 128, 128, 1) (136, 128, 128, 1) (268, 128, 128, 1)\n"
          ]
        }
      ]
    },
    {
      "cell_type": "markdown",
      "source": [
        "#Entrenamiento "
      ],
      "metadata": {
        "id": "31SHjiphE6H1"
      }
    },
    {
      "cell_type": "code",
      "source": [
        "\n",
        "\n",
        "def BN_ReLU(input_features): \n",
        "    output_features = BatchNormalization()(input_features)\n",
        "    output_features = relu(output_features)\n",
        "    return output_features \n",
        "\n",
        "def Model_Architecture(input_layer):\n",
        "    initial_num_filters=16\n",
        "    input_layer = BatchNormalization()(input_layer)  #sd\n",
        "    #in:128--out:64\n",
        "    conv1 = Conv2D(initial_num_filters * 1, (3, 3), padding=\"same\")(input_layer)\n",
        "    out = BN_ReLU(conv1) \n",
        "    out = MaxPooling2D((2, 2))(out)  \n",
        "    out = Dropout(0.2)(out)\n",
        "    #in:64--out:32\n",
        "    conv2 = Conv2D(initial_num_filters * 2, (3, 3), padding=\"same\")(out)\n",
        "    out = BN_ReLU(conv2) \n",
        "    out = MaxPooling2D((2, 2))(out)   \n",
        "    out = Dropout(0.2)(out)\n",
        "    #in:32--out:16\n",
        "    conv3 = Conv2D(initial_num_filters * 3, (3, 3), padding=\"same\")(out)\n",
        "    out = BN_ReLU(conv3) \n",
        "    out = MaxPooling2D((2, 2))(out)   \n",
        "    out = Dropout(0.2)(out)\n",
        "    #in:16--out:8\n",
        "    conv4 = Conv2D(initial_num_filters * 4, (3, 3), padding=\"same\")(out)\n",
        "    out = BN_ReLU(conv4) \n",
        "    out = MaxPooling2D((2, 2))(out)   \n",
        "    out = Dropout(0.2)(out)\n",
        "    #in:8--out:4\n",
        "    conv5 = Conv2D(initial_num_filters * 5, (3, 3), padding=\"same\")(out)\n",
        "    out = BN_ReLU(conv5) \n",
        "    out = MaxPooling2D((2, 2))(out)   \n",
        "    out = Dropout(0.2)(out)\n",
        "    #in:4--out:2\n",
        "    conv6 = Conv2D(initial_num_filters * 6, (3, 3), padding=\"same\")(out)\n",
        "    out = BN_ReLU(conv6) \n",
        "    out = MaxPooling2D((2, 2))(out)   \n",
        "    out = Dropout(0.2)(out)\n",
        "    #in:2--out:1\n",
        "    conv7 = Conv2D(initial_num_filters * 7, (3, 3), padding=\"same\")(out)\n",
        "    out = BN_ReLU(conv7) \n",
        "    out = MaxPooling2D((2, 2))(out)   \n",
        "    out = Dropout(0.2)(out)\n",
        "    \n",
        "    #Decoding\n",
        "    convT7 = Conv2DTranspose(initial_num_filters * 7, (3, 3), strides=(2, 2), padding=\"same\")(out)\n",
        "    convT7 = Conv2D(initial_num_filters * 7, (3, 3), padding=\"same\")(convT7)\n",
        "    out = concatenate([convT7, conv7])\n",
        "    out = BN_ReLU(out)\n",
        "    out = Dropout(0.2)(out)\n",
        "    \n",
        "    convT6 = Conv2DTranspose(initial_num_filters * 6, (3, 3), strides=(2, 2), padding=\"same\")(out)\n",
        "    convT6 = Conv2D(initial_num_filters * 6, (3, 3), padding=\"same\")(convT6)\n",
        "    out = concatenate([convT6, conv6])\n",
        "    out = BN_ReLU(out)\n",
        "    out = Dropout(0.2)(out)\n",
        "    \n",
        "    convT5 = Conv2DTranspose(initial_num_filters * 5, (3, 3), strides=(2, 2), padding=\"same\")(out)\n",
        "    convT5 = Conv2D(initial_num_filters * 5, (3, 3), padding=\"same\")(convT5)\n",
        "    out = concatenate([convT5, conv5])\n",
        "    out = BN_ReLU(out)\n",
        "    out = Dropout(0.2)(out)\n",
        "\n",
        "    convT4 = Conv2DTranspose(initial_num_filters * 4, (3, 3), strides=(2, 2), padding=\"same\")(out)\n",
        "    convT4 = Conv2D(initial_num_filters * 4, (3, 3), padding=\"same\")(convT4)\n",
        "    out = concatenate([convT4, conv4])\n",
        "    out = BN_ReLU(out)\n",
        "    out = Dropout(0.2)(out)\n",
        "    \n",
        "    convT3 = Conv2DTranspose(initial_num_filters * 3, (3, 3), strides=(2, 2), padding=\"same\")(out)\n",
        "    convT3 = Conv2D(initial_num_filters * 3, (3, 3), padding=\"same\")(convT3)\n",
        "    out = concatenate([convT3, conv3])\n",
        "    out = BN_ReLU(out)\n",
        "    out = Dropout(0.2)(out)\n",
        "    \n",
        "    convT2 = Conv2DTranspose(initial_num_filters * 2, (3, 3), strides=(2, 2), padding=\"same\")(out)\n",
        "    convT2 = Conv2D(initial_num_filters * 2, (3, 3), padding=\"same\")(convT2)\n",
        "    out = concatenate([convT2, conv2])\n",
        "    out = BN_ReLU(out)\n",
        "    out = Dropout(0.2)(out)\n",
        "    \n",
        "    convT1 = Conv2DTranspose(initial_num_filters * 1, (3, 3), strides=(2, 2), padding=\"same\")(out)\n",
        "    convT1 = Conv2D(initial_num_filters * 1, (3, 3), padding=\"same\")(convT1)\n",
        "    out = concatenate([convT1, conv1])\n",
        "    out = BN_ReLU(out)\n",
        "    out = Dropout(0.2)(out)\n",
        "\n",
        "    output_layer = Conv2D(1, (1,1), padding=\"same\", activation=\"sigmoid\")(out)\n",
        "    return output_layer\n",
        "\n",
        "  \n",
        "input_layer=Input(shape=(128,128,1))\n",
        "output_layer=Model_Architecture(input_layer)\n",
        "\n",
        "model=Model(inputs=input_layer,outputs=output_layer) \n",
        "\n"
      ],
      "metadata": {
        "id": "dWS9KhloE5ql"
      },
      "execution_count": null,
      "outputs": []
    },
    {
      "cell_type": "code",
      "source": [
        "model.summary()"
      ],
      "metadata": {
        "colab": {
          "base_uri": "https://localhost:8080/"
        },
        "id": "PZTiCdHMGPs0",
        "outputId": "064068af-c82c-4716-b746-e002ee6f6fe5"
      },
      "execution_count": null,
      "outputs": [
        {
          "output_type": "stream",
          "name": "stdout",
          "text": [
            "Model: \"model_2\"\n",
            "__________________________________________________________________________________________________\n",
            " Layer (type)                   Output Shape         Param #     Connected to                     \n",
            "==================================================================================================\n",
            " input_3 (InputLayer)           [(None, 128, 128, 1  0           []                               \n",
            "                                )]                                                                \n",
            "                                                                                                  \n",
            " batch_normalization_147 (Batch  (None, 128, 128, 1)  4          ['input_3[0][0]']                \n",
            " Normalization)                                                                                   \n",
            "                                                                                                  \n",
            " conv2d_30 (Conv2D)             (None, 128, 128, 16  160         ['batch_normalization_147[0][0]']\n",
            "                                )                                                                 \n",
            "                                                                                                  \n",
            " batch_normalization_148 (Batch  (None, 128, 128, 16  64         ['conv2d_30[0][0]']              \n",
            " Normalization)                 )                                                                 \n",
            "                                                                                                  \n",
            " tf.nn.relu_28 (TFOpLambda)     (None, 128, 128, 16  0           ['batch_normalization_148[0][0]']\n",
            "                                )                                                                 \n",
            "                                                                                                  \n",
            " max_pooling2d_14 (MaxPooling2D  (None, 64, 64, 16)  0           ['tf.nn.relu_28[0][0]']          \n",
            " )                                                                                                \n",
            "                                                                                                  \n",
            " dropout_28 (Dropout)           (None, 64, 64, 16)   0           ['max_pooling2d_14[0][0]']       \n",
            "                                                                                                  \n",
            " conv2d_31 (Conv2D)             (None, 64, 64, 32)   4640        ['dropout_28[0][0]']             \n",
            "                                                                                                  \n",
            " batch_normalization_149 (Batch  (None, 64, 64, 32)  128         ['conv2d_31[0][0]']              \n",
            " Normalization)                                                                                   \n",
            "                                                                                                  \n",
            " tf.nn.relu_29 (TFOpLambda)     (None, 64, 64, 32)   0           ['batch_normalization_149[0][0]']\n",
            "                                                                                                  \n",
            " max_pooling2d_15 (MaxPooling2D  (None, 32, 32, 32)  0           ['tf.nn.relu_29[0][0]']          \n",
            " )                                                                                                \n",
            "                                                                                                  \n",
            " dropout_29 (Dropout)           (None, 32, 32, 32)   0           ['max_pooling2d_15[0][0]']       \n",
            "                                                                                                  \n",
            " conv2d_32 (Conv2D)             (None, 32, 32, 48)   13872       ['dropout_29[0][0]']             \n",
            "                                                                                                  \n",
            " batch_normalization_150 (Batch  (None, 32, 32, 48)  192         ['conv2d_32[0][0]']              \n",
            " Normalization)                                                                                   \n",
            "                                                                                                  \n",
            " tf.nn.relu_30 (TFOpLambda)     (None, 32, 32, 48)   0           ['batch_normalization_150[0][0]']\n",
            "                                                                                                  \n",
            " max_pooling2d_16 (MaxPooling2D  (None, 16, 16, 48)  0           ['tf.nn.relu_30[0][0]']          \n",
            " )                                                                                                \n",
            "                                                                                                  \n",
            " dropout_30 (Dropout)           (None, 16, 16, 48)   0           ['max_pooling2d_16[0][0]']       \n",
            "                                                                                                  \n",
            " conv2d_33 (Conv2D)             (None, 16, 16, 64)   27712       ['dropout_30[0][0]']             \n",
            "                                                                                                  \n",
            " batch_normalization_151 (Batch  (None, 16, 16, 64)  256         ['conv2d_33[0][0]']              \n",
            " Normalization)                                                                                   \n",
            "                                                                                                  \n",
            " tf.nn.relu_31 (TFOpLambda)     (None, 16, 16, 64)   0           ['batch_normalization_151[0][0]']\n",
            "                                                                                                  \n",
            " max_pooling2d_17 (MaxPooling2D  (None, 8, 8, 64)    0           ['tf.nn.relu_31[0][0]']          \n",
            " )                                                                                                \n",
            "                                                                                                  \n",
            " dropout_31 (Dropout)           (None, 8, 8, 64)     0           ['max_pooling2d_17[0][0]']       \n",
            "                                                                                                  \n",
            " conv2d_34 (Conv2D)             (None, 8, 8, 80)     46160       ['dropout_31[0][0]']             \n",
            "                                                                                                  \n",
            " batch_normalization_152 (Batch  (None, 8, 8, 80)    320         ['conv2d_34[0][0]']              \n",
            " Normalization)                                                                                   \n",
            "                                                                                                  \n",
            " tf.nn.relu_32 (TFOpLambda)     (None, 8, 8, 80)     0           ['batch_normalization_152[0][0]']\n",
            "                                                                                                  \n",
            " max_pooling2d_18 (MaxPooling2D  (None, 4, 4, 80)    0           ['tf.nn.relu_32[0][0]']          \n",
            " )                                                                                                \n",
            "                                                                                                  \n",
            " dropout_32 (Dropout)           (None, 4, 4, 80)     0           ['max_pooling2d_18[0][0]']       \n",
            "                                                                                                  \n",
            " conv2d_35 (Conv2D)             (None, 4, 4, 96)     69216       ['dropout_32[0][0]']             \n",
            "                                                                                                  \n",
            " batch_normalization_153 (Batch  (None, 4, 4, 96)    384         ['conv2d_35[0][0]']              \n",
            " Normalization)                                                                                   \n",
            "                                                                                                  \n",
            " tf.nn.relu_33 (TFOpLambda)     (None, 4, 4, 96)     0           ['batch_normalization_153[0][0]']\n",
            "                                                                                                  \n",
            " max_pooling2d_19 (MaxPooling2D  (None, 2, 2, 96)    0           ['tf.nn.relu_33[0][0]']          \n",
            " )                                                                                                \n",
            "                                                                                                  \n",
            " dropout_33 (Dropout)           (None, 2, 2, 96)     0           ['max_pooling2d_19[0][0]']       \n",
            "                                                                                                  \n",
            " conv2d_36 (Conv2D)             (None, 2, 2, 112)    96880       ['dropout_33[0][0]']             \n",
            "                                                                                                  \n",
            " batch_normalization_154 (Batch  (None, 2, 2, 112)   448         ['conv2d_36[0][0]']              \n",
            " Normalization)                                                                                   \n",
            "                                                                                                  \n",
            " tf.nn.relu_34 (TFOpLambda)     (None, 2, 2, 112)    0           ['batch_normalization_154[0][0]']\n",
            "                                                                                                  \n",
            " max_pooling2d_20 (MaxPooling2D  (None, 1, 1, 112)   0           ['tf.nn.relu_34[0][0]']          \n",
            " )                                                                                                \n",
            "                                                                                                  \n",
            " dropout_34 (Dropout)           (None, 1, 1, 112)    0           ['max_pooling2d_20[0][0]']       \n",
            "                                                                                                  \n",
            " conv2d_transpose_14 (Conv2DTra  (None, 2, 2, 112)   113008      ['dropout_34[0][0]']             \n",
            " nspose)                                                                                          \n",
            "                                                                                                  \n",
            " conv2d_37 (Conv2D)             (None, 2, 2, 112)    113008      ['conv2d_transpose_14[0][0]']    \n",
            "                                                                                                  \n",
            " concatenate_14 (Concatenate)   (None, 2, 2, 224)    0           ['conv2d_37[0][0]',              \n",
            "                                                                  'conv2d_36[0][0]']              \n",
            "                                                                                                  \n",
            " batch_normalization_155 (Batch  (None, 2, 2, 224)   896         ['concatenate_14[0][0]']         \n",
            " Normalization)                                                                                   \n",
            "                                                                                                  \n",
            " tf.nn.relu_35 (TFOpLambda)     (None, 2, 2, 224)    0           ['batch_normalization_155[0][0]']\n",
            "                                                                                                  \n",
            " dropout_35 (Dropout)           (None, 2, 2, 224)    0           ['tf.nn.relu_35[0][0]']          \n",
            "                                                                                                  \n",
            " conv2d_transpose_15 (Conv2DTra  (None, 4, 4, 96)    193632      ['dropout_35[0][0]']             \n",
            " nspose)                                                                                          \n",
            "                                                                                                  \n",
            " conv2d_38 (Conv2D)             (None, 4, 4, 96)     83040       ['conv2d_transpose_15[0][0]']    \n",
            "                                                                                                  \n",
            " concatenate_15 (Concatenate)   (None, 4, 4, 192)    0           ['conv2d_38[0][0]',              \n",
            "                                                                  'conv2d_35[0][0]']              \n",
            "                                                                                                  \n",
            " batch_normalization_156 (Batch  (None, 4, 4, 192)   768         ['concatenate_15[0][0]']         \n",
            " Normalization)                                                                                   \n",
            "                                                                                                  \n",
            " tf.nn.relu_36 (TFOpLambda)     (None, 4, 4, 192)    0           ['batch_normalization_156[0][0]']\n",
            "                                                                                                  \n",
            " dropout_36 (Dropout)           (None, 4, 4, 192)    0           ['tf.nn.relu_36[0][0]']          \n",
            "                                                                                                  \n",
            " conv2d_transpose_16 (Conv2DTra  (None, 8, 8, 80)    138320      ['dropout_36[0][0]']             \n",
            " nspose)                                                                                          \n",
            "                                                                                                  \n",
            " conv2d_39 (Conv2D)             (None, 8, 8, 80)     57680       ['conv2d_transpose_16[0][0]']    \n",
            "                                                                                                  \n",
            " concatenate_16 (Concatenate)   (None, 8, 8, 160)    0           ['conv2d_39[0][0]',              \n",
            "                                                                  'conv2d_34[0][0]']              \n",
            "                                                                                                  \n",
            " batch_normalization_157 (Batch  (None, 8, 8, 160)   640         ['concatenate_16[0][0]']         \n",
            " Normalization)                                                                                   \n",
            "                                                                                                  \n",
            " tf.nn.relu_37 (TFOpLambda)     (None, 8, 8, 160)    0           ['batch_normalization_157[0][0]']\n",
            "                                                                                                  \n",
            " dropout_37 (Dropout)           (None, 8, 8, 160)    0           ['tf.nn.relu_37[0][0]']          \n",
            "                                                                                                  \n",
            " conv2d_transpose_17 (Conv2DTra  (None, 16, 16, 64)  92224       ['dropout_37[0][0]']             \n",
            " nspose)                                                                                          \n",
            "                                                                                                  \n",
            " conv2d_40 (Conv2D)             (None, 16, 16, 64)   36928       ['conv2d_transpose_17[0][0]']    \n",
            "                                                                                                  \n",
            " concatenate_17 (Concatenate)   (None, 16, 16, 128)  0           ['conv2d_40[0][0]',              \n",
            "                                                                  'conv2d_33[0][0]']              \n",
            "                                                                                                  \n",
            " batch_normalization_158 (Batch  (None, 16, 16, 128)  512        ['concatenate_17[0][0]']         \n",
            " Normalization)                                                                                   \n",
            "                                                                                                  \n",
            " tf.nn.relu_38 (TFOpLambda)     (None, 16, 16, 128)  0           ['batch_normalization_158[0][0]']\n",
            "                                                                                                  \n",
            " dropout_38 (Dropout)           (None, 16, 16, 128)  0           ['tf.nn.relu_38[0][0]']          \n",
            "                                                                                                  \n",
            " conv2d_transpose_18 (Conv2DTra  (None, 32, 32, 48)  55344       ['dropout_38[0][0]']             \n",
            " nspose)                                                                                          \n",
            "                                                                                                  \n",
            " conv2d_41 (Conv2D)             (None, 32, 32, 48)   20784       ['conv2d_transpose_18[0][0]']    \n",
            "                                                                                                  \n",
            " concatenate_18 (Concatenate)   (None, 32, 32, 96)   0           ['conv2d_41[0][0]',              \n",
            "                                                                  'conv2d_32[0][0]']              \n",
            "                                                                                                  \n",
            " batch_normalization_159 (Batch  (None, 32, 32, 96)  384         ['concatenate_18[0][0]']         \n",
            " Normalization)                                                                                   \n",
            "                                                                                                  \n",
            " tf.nn.relu_39 (TFOpLambda)     (None, 32, 32, 96)   0           ['batch_normalization_159[0][0]']\n",
            "                                                                                                  \n",
            " dropout_39 (Dropout)           (None, 32, 32, 96)   0           ['tf.nn.relu_39[0][0]']          \n",
            "                                                                                                  \n",
            " conv2d_transpose_19 (Conv2DTra  (None, 64, 64, 32)  27680       ['dropout_39[0][0]']             \n",
            " nspose)                                                                                          \n",
            "                                                                                                  \n",
            " conv2d_42 (Conv2D)             (None, 64, 64, 32)   9248        ['conv2d_transpose_19[0][0]']    \n",
            "                                                                                                  \n",
            " concatenate_19 (Concatenate)   (None, 64, 64, 64)   0           ['conv2d_42[0][0]',              \n",
            "                                                                  'conv2d_31[0][0]']              \n",
            "                                                                                                  \n",
            " batch_normalization_160 (Batch  (None, 64, 64, 64)  256         ['concatenate_19[0][0]']         \n",
            " Normalization)                                                                                   \n",
            "                                                                                                  \n",
            " tf.nn.relu_40 (TFOpLambda)     (None, 64, 64, 64)   0           ['batch_normalization_160[0][0]']\n",
            "                                                                                                  \n",
            " dropout_40 (Dropout)           (None, 64, 64, 64)   0           ['tf.nn.relu_40[0][0]']          \n",
            "                                                                                                  \n",
            " conv2d_transpose_20 (Conv2DTra  (None, 128, 128, 16  9232       ['dropout_40[0][0]']             \n",
            " nspose)                        )                                                                 \n",
            "                                                                                                  \n",
            " conv2d_43 (Conv2D)             (None, 128, 128, 16  2320        ['conv2d_transpose_20[0][0]']    \n",
            "                                )                                                                 \n",
            "                                                                                                  \n",
            " concatenate_20 (Concatenate)   (None, 128, 128, 32  0           ['conv2d_43[0][0]',              \n",
            "                                )                                 'conv2d_30[0][0]']              \n",
            "                                                                                                  \n",
            " batch_normalization_161 (Batch  (None, 128, 128, 32  128        ['concatenate_20[0][0]']         \n",
            " Normalization)                 )                                                                 \n",
            "                                                                                                  \n",
            " tf.nn.relu_41 (TFOpLambda)     (None, 128, 128, 32  0           ['batch_normalization_161[0][0]']\n",
            "                                )                                                                 \n",
            "                                                                                                  \n",
            " dropout_41 (Dropout)           (None, 128, 128, 32  0           ['tf.nn.relu_41[0][0]']          \n",
            "                                )                                                                 \n",
            "                                                                                                  \n",
            " conv2d_44 (Conv2D)             (None, 128, 128, 1)  33          ['dropout_41[0][0]']             \n",
            "                                                                                                  \n",
            "==================================================================================================\n",
            "Total params: 1,216,501\n",
            "Trainable params: 1,213,811\n",
            "Non-trainable params: 2,690\n",
            "__________________________________________________________________________________________________\n"
          ]
        }
      ]
    },
    {
      "cell_type": "code",
      "source": [
        "def focal_loss(gamma=2., alpha=.60):\n",
        "    def focal_loss_fixed(y_true, y_pred):\n",
        "        pt1 = tf.where(tf.equal(y_true, 1), y_pred, tf.ones_like(y_pred))\n",
        "        pt0 = tf.where(tf.equal(y_true, 0), y_pred, tf.zeros_like(y_pred))\n",
        "        # clip to prevent NaN's and Inf's\n",
        "        pt1 = K.clip(pt1, K.epsilon(), 1-K.epsilon())\n",
        "        pt0 = K.clip(pt0, K.epsilon(), 1-K.epsilon())\n",
        "        return -K.mean(alpha * K.pow(1. - pt1, gamma) * K.log(pt1), axis=-1) \\\n",
        "               -K.mean((1-alpha) * K.pow( pt0, gamma) * K.log(1. - pt0) ,axis=-1)\n",
        "    return focal_loss_fixed\n",
        "    "
      ],
      "metadata": {
        "id": "JnaTvSb2I4Oa"
      },
      "execution_count": null,
      "outputs": []
    },
    {
      "cell_type": "code",
      "source": [
        "opt = tf.optimizers.Adam(lr=0.001)\n",
        "model.compile(optimizer=opt, loss = [focal_loss(gamma=0.1,alpha=0.60)] , metrics=['accuracy'])\n",
        "#opt = keras.optimizers.Adam(learning_rate=0.01)\n",
        "#model.compile(loss='categorical_crossentropy', optimizer=opt)\n",
        "early_stopping = EarlyStopping(monitor='val_loss', min_delta=0, patience=8, verbose=1)\n",
        "reduce_lr = ReduceLROnPlateau(monitor='val_loss', factor=0.1, patience=5, verbose=1, mode='auto', min_delta=0.0001, cooldown=0, min_lr=0)\n",
        "model_checkpoint = ModelCheckpoint(data_path+\"checkpoint/keras.model\", monitor='val_loss', save_best_only=True, verbose=1)\n",
        "\n",
        "\n"
      ],
      "metadata": {
        "colab": {
          "base_uri": "https://localhost:8080/"
        },
        "id": "R1gqWUIdJC0O",
        "outputId": "015997be-67d5-4557-affb-654709eec877"
      },
      "execution_count": null,
      "outputs": [
        {
          "output_type": "stream",
          "name": "stderr",
          "text": [
            "/usr/local/lib/python3.7/dist-packages/keras/optimizer_v2/adam.py:105: UserWarning: The `lr` argument is deprecated, use `learning_rate` instead.\n",
            "  super(Adam, self).__init__(name, **kwargs)\n"
          ]
        }
      ]
    },
    {
      "cell_type": "markdown",
      "source": [
        "#Entrenamiento "
      ],
      "metadata": {
        "id": "OrwhVZOmL8FS"
      }
    },
    {
      "cell_type": "code",
      "source": [
        "batchsize=128\n",
        "\n",
        "gen_args = dict(horizontal_flip=True,\n",
        "                     vertical_flip=True)\n",
        "image_gen = ImageDataGenerator(**gen_args)\n",
        "mask_gen = ImageDataGenerator(**gen_args)\n",
        "\n",
        "seed = 854\n",
        "image_generator = image_gen.flow(TrainPatchImg, batch_size=batchsize, shuffle=True, seed=seed)\n",
        "mask_generator = mask_gen.flow(TrainPatchSeg, batch_size=batchsize, shuffle=True, seed=seed)\n",
        "\n",
        "train_generator = zip(image_generator, mask_generator)\n",
        "if Train:\n",
        "  model_history=model.fit(\n",
        "                train_generator,\n",
        "                steps_per_epoch=np.ceil(len(TrainPatchImg)/batchsize),\n",
        "                validation_data = (ValidPatchImg, ValidPatchSeg),\n",
        "                verbose=1,\n",
        "                callbacks=[early_stopping, model_checkpoint, reduce_lr],\n",
        "                initial_epoch=0,\n",
        "                epochs=3)"
      ],
      "metadata": {
        "id": "tvIP4tRFL4ql"
      },
      "execution_count": null,
      "outputs": []
    },
    {
      "cell_type": "code",
      "source": [
        "#Curvas roc\n",
        "if Train==True:\n",
        "  plt.figure(figsize=(8, 8))\n",
        "  plt.plot(model_history.history[\"loss\"], label=\"Training loss\")\n",
        "  plt.plot(model_history.history[\"val_loss\"], label=\"Validation loss\")\n",
        "  plt.plot( np.argmin(model_history.history[\"val_loss\"]), np.min(model_history.history[\"val_loss\"]), marker=\"*\", color=\"y\", label=\"Best model\")\n",
        "  plt.xlabel(\"Epochs\")\n",
        "  \n",
        "  plt.ylabel(\"Loss\")\n",
        "  plt.legend()"
      ],
      "metadata": {
        "id": "cLBJp_oaP-OP"
      },
      "execution_count": null,
      "outputs": []
    },
    {
      "cell_type": "markdown",
      "source": [
        "#Cargando el modelo entrenado"
      ],
      "metadata": {
        "id": "7dPBV7k3QL8o"
      }
    },
    {
      "cell_type": "code",
      "source": [
        "from tensorflow.keras.models import load_model\n",
        "model = load_model(data_path+'checkpoint/keras.model', custom_objects={'focal_loss_fixed': focal_loss(gamma=2.,alpha=0.12)})\n",
        "\n"
      ],
      "metadata": {
        "id": "X_K3g4HsQJod"
      },
      "execution_count": null,
      "outputs": []
    },
    {
      "cell_type": "markdown",
      "source": [
        "#Evaluacion del modelo"
      ],
      "metadata": {
        "id": "-OK6aVgoRDdG"
      }
    },
    {
      "cell_type": "code",
      "source": [
        "#defining dice metric\n",
        "smooth = 1\n",
        "def dice_coef(y_true, y_pred):\n",
        "    y_true_f = K.flatten(y_true)\n",
        "    y_pred_f = K.flatten(y_pred)\n",
        "    intersection = K.sum(y_true_f * y_pred_f)\n",
        "    return (2. * intersection + smooth) / (K.sum(y_true_f) + K.sum(y_pred_f) + smooth)\n",
        "  \n",
        "def dice_coef_loss(y_true, y_pred):\n",
        "    return 1-dice_coef(y_true, y_pred)\n",
        "\n",
        "\n",
        "#Confusion Matrix\n",
        "import itertools\n",
        "def plot_confusion_matrix(cm, classes,\n",
        "                          normalize=False,\n",
        "                          title='Confusion matrix',\n",
        "                          cmap=plt.cm.Blues):\n",
        "    \"\"\"\n",
        "    This function prints and plots the confusion matrix.\n",
        "    Normalization can be applied by setting `normalize=True`.\n",
        "    \"\"\"\n",
        "    if normalize:\n",
        "        cm = cm.astype('float') / cm.sum(axis=1)[:, np.newaxis]\n",
        "        #print(\"Normalized confusion matrix\")\n",
        "    else:\n",
        "        #print('Confusion matrix, without normalization')\n",
        "        pass\n",
        "\n",
        "    plt.imshow(cm, interpolation='nearest', cmap=cmap)\n",
        "    plt.title(title)\n",
        "    plt.colorbar()\n",
        "    tick_marks = np.arange(len(classes))\n",
        "    plt.xticks(tick_marks, classes, rotation=45)\n",
        "    plt.yticks(tick_marks, classes)\n",
        "\n",
        "    fmt = '.2f' if normalize else 'd'\n",
        "    thresh = cm.max() / 2.\n",
        "    for i, j in itertools.product(range(cm.shape[0]), range(cm.shape[1])):\n",
        "        plt.text(j, i, format(cm[i, j], fmt),\n",
        "                 horizontalalignment=\"center\",\n",
        "                 color=\"white\" if cm[i, j] > thresh else \"black\")\n",
        "\n",
        "    plt.ylabel('True label')\n",
        "    plt.xlabel('Predicted label')\n",
        "    plt.tight_layout()"
      ],
      "metadata": {
        "id": "YU2h4u4TRCaQ"
      },
      "execution_count": null,
      "outputs": []
    },
    {
      "cell_type": "code",
      "source": [
        "def generate_report(true_seg,predicted_):\n",
        "  thresh=0.5\n",
        "  preds_rounded = np.round(predicted_>thresh)\n",
        "  preds_rounded=preds_rounded.astype(np.float32)\n",
        "\n",
        "  c=0  #0 or 1\n",
        "  y_true = true_seg[:,:,:,c].flatten().astype(int)\n",
        "  y_pred = preds_rounded[:,:,:,c].flatten()  #with a specific thresh\n",
        "  y_pred_prob = predicted_[:,:,:,c].flatten()\n",
        "\n",
        "  from sklearn import metrics\n",
        "  acc=metrics.accuracy_score(y_true, y_pred, normalize=True)\n",
        "  print('Accuracy = '+str(acc))\n",
        "\n",
        "  dice_result=dice_coef(true_seg[:,:,:,0],preds_rounded[:,:,:,0])\n",
        "  print('Dice='+str(K.eval(dice_result)))\n",
        "\n",
        "  report=metrics.classification_report(y_true, y_pred, digits=4)\n",
        "  print(report)\n",
        "\n",
        "\n",
        "  #Plot ROC curve\n",
        "  fpr, tpr, thresholds = metrics.roc_curve(y_true, y_pred_prob, pos_label=1)\n",
        "  roc_auc = metrics.auc(fpr, tpr)\n",
        "  plt.figure()\n",
        "  lw = 2\n",
        "  plt.plot(fpr, tpr, color='darkorange',\n",
        "          lw=lw, label='ROC curve (area = %0.4f)' % roc_auc)\n",
        "  plt.plot([0, 1], [0, 1], color='navy', lw=lw, linestyle='--')\n",
        "  plt.xlim([0.0, 1.0])\n",
        "  plt.ylim([0.0, 1.05])\n",
        "  plt.xlabel('False Positive Rate')\n",
        "  plt.ylabel('True Positive Rate')\n",
        "  plt.title('ROC Curve')\n",
        "  plt.legend(loc=\"lower right\")\n",
        "  plt.show()\n",
        "\n",
        "\n",
        "  from sklearn.metrics import confusion_matrix\n",
        "  cnf_matrix = confusion_matrix(y_true, y_pred, labels=[1,0])\n",
        "  #positive:vessel:1:mask:white\n",
        "  #nagative:backgrnd:0:black\n",
        "\n",
        "  np.set_printoptions(precision=2)\n",
        "  class_names=['mask','background']\n",
        "\n",
        "  # Plot non-normalized confusion matrix\n",
        "  plt.figure()\n",
        "  plot_confusion_matrix(cnf_matrix, classes=class_names,\n",
        "                        title='Confusion matrix, without normalization');\n",
        "\n",
        "  # Plot normalized confusion matrix\n",
        "  \n",
        "  plt.figure()\n",
        "  plot_confusion_matrix(cnf_matrix, classes=class_names, normalize=True,\n",
        "                        title='Normalized confusion matrix');\n",
        "\n",
        "  plt.show()"
      ],
      "metadata": {
        "id": "2YJRD1PfRLGh"
      },
      "execution_count": null,
      "outputs": []
    },
    {
      "cell_type": "code",
      "source": [
        "print('Evaluation on the TRAINING set')\n",
        "predicted_ = model.predict(TrainPatchImgEval)\n",
        "generate_report(TrainPatchSegEval,predicted_)\n"
      ],
      "metadata": {
        "colab": {
          "base_uri": "https://localhost:8080/",
          "height": 1000
        },
        "id": "rtm0AVU3ROQQ",
        "outputId": "e66ea0f4-aac5-4576-b329-3f174e67ce28"
      },
      "execution_count": null,
      "outputs": [
        {
          "output_type": "stream",
          "name": "stdout",
          "text": [
            "Evaluation on the TRAINING set\n",
            "Accuracy = 0.9687666252477846\n",
            "Dice=0.8251483\n",
            "              precision    recall  f1-score   support\n",
            "\n",
            "           0     0.9965    0.9707    0.9834   4193816\n",
            "           1     0.5981    0.9275    0.7272    197096\n",
            "\n",
            "    accuracy                         0.9688   4390912\n",
            "   macro avg     0.7973    0.9491    0.8553   4390912\n",
            "weighted avg     0.9786    0.9688    0.9719   4390912\n",
            "\n"
          ]
        },
        {
          "output_type": "display_data",
          "data": {
            "text/plain": [
              "<Figure size 432x288 with 1 Axes>"
            ],
            "image/png": "[encoded data removed]"
          },
          "metadata": {
            "needs_background": "light"
          }
        },
        {
          "output_type": "display_data",
          "data": {
            "text/plain": [
              "<Figure size 432x288 with 2 Axes>"
            ],
            "image/png": "[encoded data removed]"
          },
          "metadata": {
            "needs_background": "light"
          }
        },
        {
          "output_type": "display_data",
          "data": {
            "text/plain": [
              "<Figure size 432x288 with 2 Axes>"
            ],
            "image/png": "[encoded data removed]"
          },
          "metadata": {
            "needs_background": "light"
          }
        }
      ]
    },
    {
      "cell_type": "code",
      "source": [
        "print('Evaluation on the TEST set')\n",
        "predicted_ = model.predict(TestPatchImg)\n",
        "generate_report(TestPatchSeg,predicted_)"
      ],
      "metadata": {
        "colab": {
          "base_uri": "https://localhost:8080/",
          "height": 1000
        },
        "id": "yWEE57ayRSLB",
        "outputId": "71d1f54d-f688-472b-9389-086ac372987e"
      },
      "execution_count": null,
      "outputs": [
        {
          "output_type": "stream",
          "name": "stdout",
          "text": [
            "Evaluation on the TEST set\n",
            "Accuracy = 0.9637249217313879\n",
            "Dice=0.7676226\n",
            "              precision    recall  f1-score   support\n",
            "\n",
            "           0     0.9938    0.9681    0.9808   2130798\n",
            "           1     0.5545    0.8672    0.6764     97426\n",
            "\n",
            "    accuracy                         0.9637   2228224\n",
            "   macro avg     0.7741    0.9177    0.8286   2228224\n",
            "weighted avg     0.9746    0.9637    0.9675   2228224\n",
            "\n"
          ]
        },
        {
          "output_type": "display_data",
          "data": {
            "text/plain": [
              "<Figure size 432x288 with 1 Axes>"
            ],
            "image/png": "[encoded data removed]"
          },
          "metadata": {
            "needs_background": "light"
          }
        },
        {
          "output_type": "display_data",
          "data": {
            "text/plain": [
              "<Figure size 432x288 with 2 Axes>"
            ],
            "image/png": "[encoded data removed]"
          },
          "metadata": {
            "needs_background": "light"
          }
        },
        {
          "output_type": "display_data",
          "data": {
            "text/plain": [
              "<Figure size 432x288 with 2 Axes>"
            ],
            "image/png": "[encoded data removed]"
          },
          "metadata": {
            "needs_background": "light"
          }
        }
      ]
    },
    {
      "cell_type": "code",
      "source": [
        "imgs = test_imgs\n",
        "#resize to 640*640\n",
        "imgs_resized = np.ndarray((imgs.shape[0], 640, 640), dtype=np.uint8)\n",
        "n=0\n",
        "import cv2\n",
        "for img in imgs:\n",
        "  res = cv2.resize(img, dsize=(640, 640), interpolation=cv2.INTER_CUBIC)\n",
        "  imgs_resized[n]=res\n",
        "  n=n+1\n",
        "\n",
        "#making patches of size 128*128\n",
        "patch_size=128\n",
        "step_size=128\n",
        "\n",
        "from skimage.util.shape import view_as_windows\n",
        "'''\n",
        "imgs_patches = np.array([])\n",
        "for i in range(imgs_resized.shape[0]):\n",
        "  patches=view_as_windows(imgs_resized[i], (patch_size, patch_size), step=step_size)\n",
        "  patches=patches.reshape(-1,patch_size,patch_size, order='A')\n",
        "  if i==0:\n",
        "    imgs_patches=patches\n",
        "  else:\n",
        "    imgs_patches=np.append(imgs_patches,patches,axis=0)\n",
        " '''\n",
        "\n",
        "imgs_patches = np.ndarray((250, patch_size, patch_size), dtype=np.uint8)\n",
        "p=0\n",
        "for i in range(imgs_resized.shape[0]):\n",
        "  #patches=view_as_windows(imgs_resized[i], (patch_size, patch_size), step=step_size)\n",
        "  for r in range(5):\n",
        "      for c in range(5):\n",
        "        imgs_patches[p]=imgs_resized[i,r*128:(r+1)*128,c*128:(c+1)*128]\n",
        "        p=p+1\n",
        "    \n",
        "imgs_patches = imgs_patches[:,:,:,np.newaxis]\n",
        "imgs_patches = imgs_patches.astype('float32')\n",
        "imgs_patches /=255.0\n",
        "\n",
        "\n",
        "\n",
        "predicted_test = model.predict(imgs_patches)\n",
        "\n",
        "\n",
        "#join patches together\n",
        "full_segs = np.ndarray((20, 640, 640), dtype=np.float32)\n",
        "p=0\n",
        "num_tests=5\n",
        "for i in range(num_tests):\n",
        "  for r in range(5):\n",
        "    for c in range(5):\n",
        "      full_segs[i, r*128:(r+1)*128, c*128:(c+1)*128]=predicted_test[p,:,:,0]\n",
        "      p=p+1\n",
        "\n",
        "#resize back to 565*584\n",
        "full_segs_resized = np.ndarray((full_segs.shape[0], 300, 300), dtype=np.float32)\n",
        "n=0\n",
        "for img in full_segs:\n",
        "  res = cv2.resize(img, dsize=(300, 300), interpolation=cv2.INTER_CUBIC)\n",
        "  full_segs_resized[n]=res\n",
        "  n=n+1\n",
        "  \n",
        "#predicted seg -- rounded\n",
        "thresh=0.5\n",
        "full_segs_rounded = np.round(full_segs_resized>thresh)\n",
        "w=Image.fromarray(255*full_segs_rounded[0].astype('uint8')).convert('L')\n",
        "display(w)"
      ],
      "metadata": {
        "id": "oI1PZMdWRXVP"
      },
      "execution_count": null,
      "outputs": []
    },
    {
      "cell_type": "markdown",
      "source": [
        "#Ramer douglas peucker"
      ],
      "metadata": {
        "id": "KzD1PJxOOdjF"
      }
    },
    {
      "cell_type": "code",
      "source": [
        "from scipy import linalg\n",
        "import pandas as pd \n",
        "import numpy as np\n",
        "# pos arreglo tipo numpy \n",
        "#Esta funcion no es me pertenece solo la estoy analizando\n",
        "# Estructura de datos conveniente \n",
        "#Lista de puntos , matriz nx2\n",
        "\n",
        "def parseInputs(pos,tolerance):\n",
        "    defaultTolerance = 0.001     #float32\n",
        "    a = np.min(pos,axis=0 )\n",
        "    b = np.max(pos,axis=0)\n",
        "    scaling = np.linalg.norm(b-a)\n",
        "    tolerance = tolerance*scaling\n",
        "    return tolerance\n",
        "\n",
        "def douglasPeucker(ptList,n,tolerance):\n",
        "    if n <= 2:\n",
        "      posreduced = ptList.copy()\n",
        "      return posreduced\n",
        "\n",
        "    startEnd = ptList[[0,n-1],:]\n",
        "    dNode = np.sqrt((startEnd[1,1] - startEnd[0,1] )** 2 + (startEnd[1,0] - startEnd[0,0] )** 2)\n",
        "    d + np.zeros([n-1])\n",
        "    eps = 2.3e-5\n",
        "\n",
        "    for k in range(1,n-1):\n",
        "      if dNode > eps:\n",
        "          mat123 = np.array([ [1,startEnd[0,0],startEnd[0,1]] , [1,startEnd[1,0], startEnd[1,1]] , [1, ptList[k,0], ptList[k,1]] ])\n",
        "          d[k] =  np.abs(np.linalg.det( mat123 ))/dNode;\n",
        "      else:\n",
        "          d[k] = np.sqrt((ptList[k,0]-starEnd[0,0])**2 +(ptList[k,1]-startEnd[0,1])**2)\n",
        "    idx = np.where(d==np.max(d))[0]+1\n",
        "    dmax = d[idx-1]\n",
        "    farthestIdx = idx[0]\n",
        "    if dmax > tolerance:\n",
        "        recList1 = douglasPuecker(ptList[0:farthestIdx,:],fartgerstIdx,tolerance)\n",
        "        recList2 = douglasPeucker(ptList[farthestIdx-1,:],n-farthestIdx+1,tolerance)\n",
        "\n",
        "        posreduced = np.vstack([recList1,recList2[1:,:]])\n",
        "    else:\n",
        "        posreduced =startEnd.copy()\n",
        "    \n",
        "    return posreduced\n",
        "\n",
        "\n",
        "\n",
        "def reducepolu(pos,tolerance):\n",
        "    tolerance = parseInputs(pos,tolerance)\n",
        "    n = pos.shape[0]\n",
        "    if n<=1:\n",
        "        posreduced = pos.copy()\n",
        "    else:\n",
        "        posreduced = douglasPeucker(pos,n,tolerance)\n",
        "    return posreduced.astype(float) \n"
      ],
      "metadata": {
        "id": "ZiFHqWPjOhZv"
      },
      "execution_count": null,
      "outputs": []
    }
  ]
}